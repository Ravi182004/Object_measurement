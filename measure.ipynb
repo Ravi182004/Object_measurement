{
 "cells": [
  {
   "cell_type": "code",
   "execution_count": 10,
   "id": "93489043-0610-4750-99f5-087813542dc9",
   "metadata": {},
   "outputs": [],
   "source": [
    "import cv2\n",
    "import numpy as np\n",
    "from scipy.spatial.distance import euclidean\n",
    "from imutils import perspective\n",
    "from imutils import contours\n",
    "import imutils"
   ]
  },
  {
   "cell_type": "code",
   "execution_count": 11,
   "id": "aff5caf9-ae76-49fc-90bb-9717406ee7e7",
   "metadata": {},
   "outputs": [
    {
     "name": "stdout",
     "output_type": "stream",
     "text": [
      "Press spacebar to capture the image, 'q' to quit\n"
     ]
    }
   ],
   "source": [
    "# Function to show array of images (intermediate results) with resizing capability\n",
    "def show_images(images):\n",
    "    for i, img in enumerate(images):\n",
    "        window_name = \"image_\" + str(i)\n",
    "        cv2.namedWindow(window_name, cv2.WINDOW_NORMAL)  # Create a named window with resizing capability\n",
    "        cv2.resizeWindow(window_name, 1024, 768)  # Resize the window to your desired size\n",
    "        cv2.imshow(window_name, img)\n",
    "    cv2.waitKey(0)\n",
    "    cv2.destroyAllWindows()\n",
    "                                \n",
    "# Capture an image from the webcam\n",
    "def capture_image():\n",
    "    cap = cv2.VideoCapture(0)\n",
    "    if not cap.isOpened():\n",
    "        print(\"Error: Could not open webcam.\")\n",
    "        return None\n",
    "    print(\"Press spacebar to capture the image, 'q' to quit\")\n",
    "    while True:\n",
    "        ret, frame = cap.read()\n",
    "        if not ret:\n",
    "            print(\"Error: Could not read frame.\")\n",
    "            return None\n",
    "        cv2.imshow('Webcam', frame)\n",
    "        key = cv2.waitKey(1) & 0xFF\n",
    "        if key == ord(' '):\n",
    "            image_click = frame\n",
    "            break\n",
    "        elif key == ord('q'):\n",
    "            return None\n",
    "    cap.release()\n",
    "    cv2.destroyAllWindows()\n",
    "    return image_click\n",
    "\n",
    "# Capture an image\n",
    "image = capture_image()\n",
    "if image is None:\n",
    "    print(\"No image captured.\")\n",
    "    exit()"
   ]
  },
  {
   "cell_type": "code",
   "execution_count": 12,
   "id": "fe10475c-38ea-4ee9-9300-21ad4c69b447",
   "metadata": {},
   "outputs": [],
   "source": [
    "# Convert the captured image to grayscale\n",
    "gray = cv2.cvtColor(image, cv2.COLOR_BGR2GRAY)\n",
    "blur = cv2.GaussianBlur(gray, (7, 7), 0)\n",
    "\n",
    "# Improved edge detection\n",
    "edged = cv2.Canny(blur, 50, 150)\n",
    "edged = cv2.dilate(edged, None, iterations=2)\n",
    "edged = cv2.erode(edged, None, iterations=1)\n",
    "\n",
    "# Find contours\n",
    "cnts = cv2.findContours(edged.copy(), cv2.RETR_EXTERNAL, cv2.CHAIN_APPROX_SIMPLE)\n",
    "cnts = imutils.grab_contours(cnts)\n",
    "\n",
    "# Sort contours from left to right as leftmost contour is reference object\n",
    "(cnts, _) = contours.sort_contours(cnts)\n",
    "\n",
    "# Remove contours which are not large enough\n",
    "cnts = [x for x in cnts if cv2.contourArea(x) > 100]\n",
    "\n",
    "# Reference object dimensions\n",
    "ref_object = cnts[0]\n",
    "box = cv2.minAreaRect(ref_object)\n",
    "box = cv2.boxPoints(box)\n",
    "box = np.array(box, dtype=\"int\")\n",
    "box = perspective.order_points(box)\n",
    "(tl, tr, br, bl) = box\n",
    "dist_in_pixel = euclidean(tl, tr)\n",
    "dist_in_cm = 2  # Known width of the reference object in cm\n",
    "pixel_per_cm = dist_in_pixel / dist_in_cm"
   ]
  },
  {
   "cell_type": "code",
   "execution_count": 13,
   "id": "7626dbc2-6b39-47d3-ad05-41d153bb73fd",
   "metadata": {},
   "outputs": [],
   "source": [
    "# Draw remaining contours\n",
    "for cnt in cnts:\n",
    "    box = cv2.minAreaRect(cnt)\n",
    "    box = cv2.boxPoints(box)\n",
    "    box = np.array(box, dtype=\"int\")\n",
    "    box = perspective.order_points(box)\n",
    "    (tl, tr, br, bl) = box\n",
    "    cv2.drawContours(image, [box.astype(\"int\")], -1, (0, 0, 255), 2)\n",
    "    mid_pt_horizontal = (tl[0] + int(abs(tr[0] - tl[0]) / 2), tl[1] + int(abs(tr[1] - tl[1]) / 2))\n",
    "    mid_pt_verticle = (tr[0] + int(abs(tr[0] - br[0]) / 2), tr[1] + int(abs(tr[1] - br[1]) / 2))\n",
    "    wid = euclidean(tl, tr) / pixel_per_cm\n",
    "    ht = euclidean(tr, br) / pixel_per_cm\n",
    "    cv2.putText(image, \"{:.1f}cm\".format(wid), (int(mid_pt_horizontal[0] - 15), int(mid_pt_horizontal[1] - 10)), \n",
    "                cv2.FONT_HERSHEY_SIMPLEX, 0.5, (255, 255, 0), 2)\n",
    "    cv2.putText(image, \"{:.1f}cm\".format(ht), (int(mid_pt_verticle[0] + 10), int(mid_pt_verticle[1])), \n",
    "                cv2.FONT_HERSHEY_SIMPLEX, 0.5, (255, 255, 0), 2)\n",
    "\n",
    "# Display the result with resized window\n",
    "show_images([image])"
   ]
  }
 ],
 "metadata": {
  "kernelspec": {
   "display_name": "Python [conda env:base] *",
   "language": "python",
   "name": "conda-base-py"
  },
  "language_info": {
   "codemirror_mode": {
    "name": "ipython",
    "version": 3
   },
   "file_extension": ".py",
   "mimetype": "text/x-python",
   "name": "python",
   "nbconvert_exporter": "python",
   "pygments_lexer": "ipython3",
   "version": "3.12.7"
  }
 },
 "nbformat": 4,
 "nbformat_minor": 5
}
